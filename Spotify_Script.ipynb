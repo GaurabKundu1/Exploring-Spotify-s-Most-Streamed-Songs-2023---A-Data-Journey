{
 "cells": [
  {
   "cell_type": "code",
   "execution_count": 1,
   "metadata": {},
   "outputs": [],
   "source": [
    "## Loading necessary Libraries\n",
    "import requests\n",
    "import pandas as pd"
   ]
  },
  {
   "cell_type": "code",
   "execution_count": 3,
   "metadata": {},
   "outputs": [],
   "source": [
    "## Function to get Spotify access token\n",
    "def get_spotify_token(client_id, client_secret):\n",
    "    auth_url = 'https://accounts.spotify.com/api/token'\n",
    "    auth_response = requests.post(auth_url, {\n",
    "        'grant_type': 'client_credentials',\n",
    "        'client_id': 'Your ID',\n",
    "        'client_secret': 'Your Secret',\n",
    "    })\n",
    "    auth_data = auth_response.json()\n",
    "    return auth_data['access_token']"
   ]
  },
  {
   "cell_type": "code",
   "execution_count": 4,
   "metadata": {},
   "outputs": [],
   "source": [
    "# Function to search for a track and get its ID\n",
    "def search_track(track_name, artist_name, token):\n",
    "    query = f\"{track_name} artist:{artist_name}\"\n",
    "    url = f\"https://api.spotify.com/v1/search?q={query}&type=track\"\n",
    "    response = requests.get(url, headers={\n",
    "        'Authorization': f'Bearer {token}'\n",
    "    })\n",
    "    json_data = response.json()\n",
    "    try:\n",
    "        first_result = json_data['tracks']['items'][0]\n",
    "        track_id = first_result['id']\n",
    "        return track_id\n",
    "    except (KeyError, IndexError):\n",
    "        return None"
   ]
  },
  {
   "cell_type": "code",
   "execution_count": 5,
   "metadata": {},
   "outputs": [],
   "source": [
    "# Function to get track details\n",
    "def get_track_details(track_id, token):\n",
    "    url = f\"https://api.spotify.com/v1/tracks/{track_id}\"\n",
    "    response = requests.get(url, headers={\n",
    "        'Authorization': f'Bearer {token}'\n",
    "    })\n",
    "    json_data = response.json()\n",
    "    image_url = json_data['album']['images'][0]['url']\n",
    "    return image_url"
   ]
  },
  {
   "cell_type": "code",
   "execution_count": 6,
   "metadata": {},
   "outputs": [],
   "source": [
    "# Your Spotify API Credentials\n",
    "client_id = 'Your ID'\n",
    "client_secret = 'Your Secret'"
   ]
  },
  {
   "cell_type": "code",
   "execution_count": 7,
   "metadata": {},
   "outputs": [],
   "source": [
    "# Get Access Token\n",
    "access_token = get_spotify_token(client_id, client_secret)"
   ]
  },
  {
   "cell_type": "code",
   "execution_count": 8,
   "metadata": {},
   "outputs": [],
   "source": [
    "# Read your DataFrame (replace 'your_file.csv' with the path to your CSV file)\n",
    "df_spotify = pd.read_csv('E:/Portfolio/Power BI/Most Streamed Spotify Songs 2023/spotify-2023.csv', encoding='ISO-8859-1')"
   ]
  },
  {
   "cell_type": "code",
   "execution_count": 10,
   "metadata": {},
   "outputs": [],
   "source": [
    "# Loop through each row to get track details and add to DataFrame\n",
    "for i, row in df_spotify.iterrows():\n",
    "    track_id = search_track(row['track_name'], row['artist(s)_name'], access_token)\n",
    "    if track_id:\n",
    "        image_url = get_track_details(track_id, access_token)\n",
    "        df_spotify.at[i, 'image_url'] = image_url"
   ]
  },
  {
   "cell_type": "code",
   "execution_count": 12,
   "metadata": {},
   "outputs": [],
   "source": [
    "# Save the updated DataFrame (replace 'updated_file.csv' with your desired output file name)\n",
    "df_spotify.to_csv('Spotify_2023_updated.csv', index=False)"
   ]
  }
 ],
 "metadata": {
  "kernelspec": {
   "display_name": "base",
   "language": "python",
   "name": "python3"
  },
  "language_info": {
   "codemirror_mode": {
    "name": "ipython",
    "version": 3
   },
   "file_extension": ".py",
   "mimetype": "text/x-python",
   "name": "python",
   "nbconvert_exporter": "python",
   "pygments_lexer": "ipython3",
   "version": "3.9.18"
  }
 },
 "nbformat": 4,
 "nbformat_minor": 2
}
